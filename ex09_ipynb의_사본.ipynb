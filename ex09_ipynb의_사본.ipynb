{
  "nbformat": 4,
  "nbformat_minor": 0,
  "metadata": {
    "colab": {
      "name": "ex09.ipynb의 사본",
      "provenance": [],
      "collapsed_sections": [],
      "authorship_tag": "ABX9TyMspSC74Ueol0/zugZGq+LZ",
      "include_colab_link": true
    },
    "kernelspec": {
      "name": "python3",
      "display_name": "Python 3"
    },
    "language_info": {
      "name": "python"
    },
    "accelerator": "GPU"
  },
  "cells": [
    {
      "cell_type": "markdown",
      "metadata": {
        "id": "view-in-github",
        "colab_type": "text"
      },
      "source": [
        "<a href=\"https://colab.research.google.com/github/Futuremine97/-EX-09-/blob/main/ex09_ipynb%EC%9D%98_%EC%82%AC%EB%B3%B8.ipynb\" target=\"_parent\"><img src=\"https://colab.research.google.com/assets/colab-badge.svg\" alt=\"Open In Colab\"/></a>"
      ]
    },
    {
      "cell_type": "code",
      "execution_count": null,
      "metadata": {
        "colab": {
          "base_uri": "https://localhost:8080/"
        },
        "id": "0mNCwwQnM3-4",
        "outputId": "2214a981-7469-438e-ecac-41c061af4ba4"
      },
      "outputs": [
        {
          "output_type": "stream",
          "name": "stdout",
          "text": [
            "Reading package lists... Done\n",
            "Building dependency tree       \n",
            "Reading state information... Done\n",
            "The following packages were automatically installed and are no longer required:\n",
            "  cuda-command-line-tools-10-0 cuda-command-line-tools-10-1\n",
            "  cuda-command-line-tools-11-0 cuda-compiler-10-0 cuda-compiler-10-1\n",
            "  cuda-compiler-11-0 cuda-cuobjdump-10-0 cuda-cuobjdump-10-1\n",
            "  cuda-cuobjdump-11-0 cuda-cupti-10-0 cuda-cupti-10-1 cuda-cupti-11-0\n",
            "  cuda-cupti-dev-11-0 cuda-documentation-10-0 cuda-documentation-10-1\n",
            "  cuda-documentation-11-0 cuda-documentation-11-1 cuda-gdb-10-0 cuda-gdb-10-1\n",
            "  cuda-gdb-11-0 cuda-gpu-library-advisor-10-0 cuda-gpu-library-advisor-10-1\n",
            "  cuda-libraries-10-0 cuda-libraries-10-1 cuda-libraries-11-0\n",
            "  cuda-memcheck-10-0 cuda-memcheck-10-1 cuda-memcheck-11-0 cuda-nsight-10-0\n",
            "  cuda-nsight-10-1 cuda-nsight-11-0 cuda-nsight-11-1 cuda-nsight-compute-10-0\n",
            "  cuda-nsight-compute-10-1 cuda-nsight-compute-11-0 cuda-nsight-compute-11-1\n",
            "  cuda-nsight-systems-10-1 cuda-nsight-systems-11-0 cuda-nsight-systems-11-1\n",
            "  cuda-nvcc-10-0 cuda-nvcc-10-1 cuda-nvcc-11-0 cuda-nvdisasm-10-0\n",
            "  cuda-nvdisasm-10-1 cuda-nvdisasm-11-0 cuda-nvml-dev-10-0 cuda-nvml-dev-10-1\n",
            "  cuda-nvml-dev-11-0 cuda-nvprof-10-0 cuda-nvprof-10-1 cuda-nvprof-11-0\n",
            "  cuda-nvprune-10-0 cuda-nvprune-10-1 cuda-nvprune-11-0 cuda-nvtx-10-0\n",
            "  cuda-nvtx-10-1 cuda-nvtx-11-0 cuda-nvvp-10-0 cuda-nvvp-10-1 cuda-nvvp-11-0\n",
            "  cuda-nvvp-11-1 cuda-samples-10-0 cuda-samples-10-1 cuda-samples-11-0\n",
            "  cuda-samples-11-1 cuda-sanitizer-11-0 cuda-sanitizer-api-10-1\n",
            "  cuda-toolkit-10-0 cuda-toolkit-10-1 cuda-toolkit-11-0 cuda-toolkit-11-1\n",
            "  cuda-tools-10-0 cuda-tools-10-1 cuda-tools-11-0 cuda-tools-11-1\n",
            "  cuda-visual-tools-10-0 cuda-visual-tools-10-1 cuda-visual-tools-11-0\n",
            "  cuda-visual-tools-11-1 default-jre dkms freeglut3 freeglut3-dev\n",
            "  keyboard-configuration libargon2-0 libcap2 libcryptsetup12\n",
            "  libdevmapper1.02.1 libfontenc1 libidn11 libip4tc0 libjansson4\n",
            "  libnvidia-cfg1-510 libnvidia-common-460 libnvidia-common-510\n",
            "  libnvidia-extra-510 libnvidia-fbc1-510 libnvidia-gl-510 libpam-systemd\n",
            "  libpolkit-agent-1-0 libpolkit-backend-1-0 libpolkit-gobject-1-0 libxfont2\n",
            "  libxi-dev libxkbfile1 libxmu-dev libxmu-headers libxnvctrl0 libxtst6\n",
            "  nsight-compute-2020.2.1 nsight-compute-2022.1.0 nsight-systems-2020.3.2\n",
            "  nsight-systems-2020.3.4 nsight-systems-2021.5.2 nvidia-dkms-510\n",
            "  nvidia-kernel-common-510 nvidia-kernel-source-510 nvidia-modprobe\n",
            "  nvidia-settings openjdk-11-jre policykit-1 policykit-1-gnome python3-xkit\n",
            "  screen-resolution-extra systemd systemd-sysv udev x11-xkb-utils\n",
            "  xserver-common xserver-xorg-core-hwe-18.04 xserver-xorg-video-nvidia-510\n",
            "Use 'sudo apt autoremove' to remove them.\n",
            "Suggested packages:\n",
            "  python-apt-dbg python-apt-doc libcurl4-gnutls-dev python-pycurl-dbg\n",
            "  python-pycurl-doc\n",
            "The following NEW packages will be installed:\n",
            "  python-apt python-pycurl\n",
            "0 upgraded, 2 newly installed, 0 to remove and 39 not upgraded.\n",
            "Need to get 194 kB of archives.\n",
            "After this operation, 873 kB of additional disk space will be used.\n",
            "Get:1 http://archive.ubuntu.com/ubuntu bionic-updates/main amd64 python-apt amd64 1.6.5ubuntu0.7 [151 kB]\n",
            "Get:2 http://archive.ubuntu.com/ubuntu bionic/main amd64 python-pycurl amd64 7.43.0.1-0.2 [43.1 kB]\n",
            "Fetched 194 kB in 1s (259 kB/s)\n",
            "debconf: unable to initialize frontend: Dialog\n",
            "debconf: (No usable dialog-like program is installed, so the dialog based frontend cannot be used. at /usr/share/perl5/Debconf/FrontEnd/Dialog.pm line 76, <> line 2.)\n",
            "debconf: falling back to frontend: Readline\n",
            "debconf: unable to initialize frontend: Readline\n",
            "debconf: (This frontend requires a controlling tty.)\n",
            "debconf: falling back to frontend: Teletype\n",
            "dpkg-preconfigure: unable to re-open stdin: \n",
            "Selecting previously unselected package python-apt.\n",
            "(Reading database ... 155113 files and directories currently installed.)\n",
            "Preparing to unpack .../python-apt_1.6.5ubuntu0.7_amd64.deb ...\n",
            "Unpacking python-apt (1.6.5ubuntu0.7) ...\n",
            "Selecting previously unselected package python-pycurl.\n",
            "Preparing to unpack .../python-pycurl_7.43.0.1-0.2_amd64.deb ...\n",
            "Unpacking python-pycurl (7.43.0.1-0.2) ...\n",
            "Setting up python-pycurl (7.43.0.1-0.2) ...\n",
            "Setting up python-apt (1.6.5ubuntu0.7) ...\n",
            "E: Package 'python-software-properties' has no installation candidate\n",
            "Selecting previously unselected package google-drive-ocamlfuse.\n",
            "(Reading database ... 155150 files and directories currently installed.)\n",
            "Preparing to unpack .../google-drive-ocamlfuse_0.7.27-0ubuntu1~ubuntu18.04.1_amd64.deb ...\n",
            "Unpacking google-drive-ocamlfuse (0.7.27-0ubuntu1~ubuntu18.04.1) ...\n",
            "Setting up google-drive-ocamlfuse (0.7.27-0ubuntu1~ubuntu18.04.1) ...\n",
            "Processing triggers for man-db (2.8.3-2ubuntu0.1) ...\n",
            "Please, open the following URL in a web browser: https://accounts.google.com/o/oauth2/auth?client_id=32555940559.apps.googleusercontent.com&redirect_uri=urn%3Aietf%3Awg%3Aoauth%3A2.0%3Aoob&scope=https%3A%2F%2Fwww.googleapis.com%2Fauth%2Fdrive&response_type=code&access_type=offline&approval_prompt=force\n",
            "··········\n",
            "Please, open the following URL in a web browser: https://accounts.google.com/o/oauth2/auth?client_id=32555940559.apps.googleusercontent.com&redirect_uri=urn%3Aietf%3Awg%3Aoauth%3A2.0%3Aoob&scope=https%3A%2F%2Fwww.googleapis.com%2Fauth%2Fdrive&response_type=code&access_type=offline&approval_prompt=force\n",
            "Please enter the verification code: Access token retrieved correctly.\n"
          ]
        }
      ],
      "source": [
        "!sudo apt --fix-broken install python-pycurl python-apt\n",
        "\n",
        "!apt-get install -y -qq software-properties-common python-software-properties module-init-tools\n",
        "\n",
        "!add-apt-repository -y ppa:alessandro-strada/ppa 2>&1 > /dev/null\n",
        "\n",
        "!apt-get update -qq 2>&1 > /dev/null\n",
        "\n",
        "!apt-get -y install -qq google-drive-ocamlfuse fuse\n",
        "\n",
        "from google.colab import auth\n",
        "\n",
        "auth.authenticate_user()\n",
        "\n",
        "from oauth2client.client import GoogleCredentials\n",
        "\n",
        "creds = GoogleCredentials.get_application_default()\n",
        "\n",
        "import getpass\n",
        "!google-drive-ocamlfuse -headless -id={creds.client_id} -secret={creds.client_secret} < /dev/null 2>&1 | grep URL\n",
        "\n",
        "vcode = getpass.getpass()\n",
        "\n",
        "!echo {vcode} | google-drive-ocamlfuse -headless -id={creds.client_id} -secret={creds.client_secret}"
      ]
    },
    {
      "cell_type": "code",
      "source": [
        ""
      ],
      "metadata": {
        "id": "8nNQ18yeNE4l"
      },
      "execution_count": null,
      "outputs": []
    },
    {
      "cell_type": "code",
      "source": [
        "# !pip uninstall nltk\n",
        "# %tensorflow_version 2.x\n",
        "# !pip3 install nltk\n",
        "# !py -3 -m pip install nltk\n",
        "# !pip3 install tensorflow\n",
        "# import nltk\n",
        "# nltk.download('stopwords')\n",
        "#import tensorflow as tf\n",
        "import numpy as np\n",
        "import pandas as pd\n",
        "import os\n",
        "import re\n",
        "import matplotlib.pyplot as plt\n",
        "from nltk.corpus import stopwords\n",
        "from bs4 import BeautifulSoup \n",
        "from tensorflow.keras.preprocessing.text import Tokenizer \n",
        "from tensorflow.keras.preprocessing.sequence import pad_sequences\n",
        "import urllib.request\n",
        "import warnings\n",
        "warnings.filterwarnings(\"ignore\", category=UserWarning, module='bs4')\n",
        "\n",
        "# resolver=tf.distribute.cluster_resolver.TPUClusterResolver('grpc://10.119.43.66:8470')\n",
        "# tf.config.experimental_connect_to_cluster(resolver)\n",
        "# tf.tpu.experimental.initialize_tpu_system(resolver)\n",
        "# strategy = tf.distribute.TPUStrategy(resolver)\n",
        "print('=3')"
      ],
      "metadata": {
        "colab": {
          "base_uri": "https://localhost:8080/"
        },
        "id": "lgq7hbgeNE6S",
        "outputId": "5b878ee4-688d-420e-e31e-1c53e12fab42"
      },
      "execution_count": 7,
      "outputs": [
        {
          "output_type": "stream",
          "name": "stdout",
          "text": [
            "=3\n"
          ]
        }
      ]
    },
    {
      "cell_type": "code",
      "source": [
        "import tensorflow as tf\n",
        "import numpy as np\n",
        "import os\n",
        "\n",
        "try:\n",
        "  device_name = os.environ['COLAB_TPU_ADDR']\n",
        "  TPU_ADDRESS = 'grpc://' + device_name\n",
        "  print('Found TPU at: {}'.format(TPU_ADDRESS))\n",
        "\n",
        "except KeyError:\n",
        "  print('TPU not found')"
      ],
      "metadata": {
        "colab": {
          "base_uri": "https://localhost:8080/"
        },
        "id": "X0ipDBg3NJ-0",
        "outputId": "91cb4a2a-ed21-456a-cef0-8e3bfce4e9f1"
      },
      "execution_count": 4,
      "outputs": [
        {
          "output_type": "stream",
          "name": "stdout",
          "text": [
            "Found TPU at: grpc://10.83.133.162:8470\n"
          ]
        }
      ]
    },
    {
      "cell_type": "code",
      "source": [
        "resolver=tf.distribute.cluster_resolver.TPUClusterResolver('grpc://10.83.133.162:8470')\n",
        "tf.config.experimental_connect_to_cluster(resolver)\n",
        "tf.tpu.experimental.initialize_tpu_system(resolver)\n",
        "strategy = tf.distribute.TPUStrategy(resolver)\n",
        "print('=3')"
      ],
      "metadata": {
        "colab": {
          "base_uri": "https://localhost:8080/"
        },
        "id": "0g8InvT7NLeM",
        "outputId": "237a88c4-54ec-468f-a49a-39cfa39de29e"
      },
      "execution_count": 5,
      "outputs": [
        {
          "output_type": "stream",
          "name": "stdout",
          "text": [
            "INFO:tensorflow:Deallocate tpu buffers before initializing tpu system.\n"
          ]
        },
        {
          "output_type": "stream",
          "name": "stderr",
          "text": [
            "INFO:tensorflow:Deallocate tpu buffers before initializing tpu system.\n"
          ]
        },
        {
          "output_type": "stream",
          "name": "stdout",
          "text": [
            "INFO:tensorflow:Initializing the TPU system: grpc://10.83.133.162:8470\n"
          ]
        },
        {
          "output_type": "stream",
          "name": "stderr",
          "text": [
            "INFO:tensorflow:Initializing the TPU system: grpc://10.83.133.162:8470\n"
          ]
        },
        {
          "output_type": "stream",
          "name": "stdout",
          "text": [
            "INFO:tensorflow:Finished initializing TPU system.\n"
          ]
        },
        {
          "output_type": "stream",
          "name": "stderr",
          "text": [
            "INFO:tensorflow:Finished initializing TPU system.\n"
          ]
        },
        {
          "output_type": "stream",
          "name": "stdout",
          "text": [
            "INFO:tensorflow:Found TPU system:\n"
          ]
        },
        {
          "output_type": "stream",
          "name": "stderr",
          "text": [
            "INFO:tensorflow:Found TPU system:\n"
          ]
        },
        {
          "output_type": "stream",
          "name": "stdout",
          "text": [
            "INFO:tensorflow:*** Num TPU Cores: 8\n"
          ]
        },
        {
          "output_type": "stream",
          "name": "stderr",
          "text": [
            "INFO:tensorflow:*** Num TPU Cores: 8\n"
          ]
        },
        {
          "output_type": "stream",
          "name": "stdout",
          "text": [
            "INFO:tensorflow:*** Num TPU Workers: 1\n"
          ]
        },
        {
          "output_type": "stream",
          "name": "stderr",
          "text": [
            "INFO:tensorflow:*** Num TPU Workers: 1\n"
          ]
        },
        {
          "output_type": "stream",
          "name": "stdout",
          "text": [
            "INFO:tensorflow:*** Num TPU Cores Per Worker: 8\n"
          ]
        },
        {
          "output_type": "stream",
          "name": "stderr",
          "text": [
            "INFO:tensorflow:*** Num TPU Cores Per Worker: 8\n"
          ]
        },
        {
          "output_type": "stream",
          "name": "stdout",
          "text": [
            "INFO:tensorflow:*** Available Device: _DeviceAttributes(/job:localhost/replica:0/task:0/device:CPU:0, CPU, 0, 0)\n"
          ]
        },
        {
          "output_type": "stream",
          "name": "stderr",
          "text": [
            "INFO:tensorflow:*** Available Device: _DeviceAttributes(/job:localhost/replica:0/task:0/device:CPU:0, CPU, 0, 0)\n"
          ]
        },
        {
          "output_type": "stream",
          "name": "stdout",
          "text": [
            "INFO:tensorflow:*** Available Device: _DeviceAttributes(/job:worker/replica:0/task:0/device:CPU:0, CPU, 0, 0)\n"
          ]
        },
        {
          "output_type": "stream",
          "name": "stderr",
          "text": [
            "INFO:tensorflow:*** Available Device: _DeviceAttributes(/job:worker/replica:0/task:0/device:CPU:0, CPU, 0, 0)\n"
          ]
        },
        {
          "output_type": "stream",
          "name": "stdout",
          "text": [
            "INFO:tensorflow:*** Available Device: _DeviceAttributes(/job:worker/replica:0/task:0/device:TPU:0, TPU, 0, 0)\n"
          ]
        },
        {
          "output_type": "stream",
          "name": "stderr",
          "text": [
            "INFO:tensorflow:*** Available Device: _DeviceAttributes(/job:worker/replica:0/task:0/device:TPU:0, TPU, 0, 0)\n"
          ]
        },
        {
          "output_type": "stream",
          "name": "stdout",
          "text": [
            "INFO:tensorflow:*** Available Device: _DeviceAttributes(/job:worker/replica:0/task:0/device:TPU:1, TPU, 0, 0)\n"
          ]
        },
        {
          "output_type": "stream",
          "name": "stderr",
          "text": [
            "INFO:tensorflow:*** Available Device: _DeviceAttributes(/job:worker/replica:0/task:0/device:TPU:1, TPU, 0, 0)\n"
          ]
        },
        {
          "output_type": "stream",
          "name": "stdout",
          "text": [
            "INFO:tensorflow:*** Available Device: _DeviceAttributes(/job:worker/replica:0/task:0/device:TPU:2, TPU, 0, 0)\n"
          ]
        },
        {
          "output_type": "stream",
          "name": "stderr",
          "text": [
            "INFO:tensorflow:*** Available Device: _DeviceAttributes(/job:worker/replica:0/task:0/device:TPU:2, TPU, 0, 0)\n"
          ]
        },
        {
          "output_type": "stream",
          "name": "stdout",
          "text": [
            "INFO:tensorflow:*** Available Device: _DeviceAttributes(/job:worker/replica:0/task:0/device:TPU:3, TPU, 0, 0)\n"
          ]
        },
        {
          "output_type": "stream",
          "name": "stderr",
          "text": [
            "INFO:tensorflow:*** Available Device: _DeviceAttributes(/job:worker/replica:0/task:0/device:TPU:3, TPU, 0, 0)\n"
          ]
        },
        {
          "output_type": "stream",
          "name": "stdout",
          "text": [
            "INFO:tensorflow:*** Available Device: _DeviceAttributes(/job:worker/replica:0/task:0/device:TPU:4, TPU, 0, 0)\n"
          ]
        },
        {
          "output_type": "stream",
          "name": "stderr",
          "text": [
            "INFO:tensorflow:*** Available Device: _DeviceAttributes(/job:worker/replica:0/task:0/device:TPU:4, TPU, 0, 0)\n"
          ]
        },
        {
          "output_type": "stream",
          "name": "stdout",
          "text": [
            "INFO:tensorflow:*** Available Device: _DeviceAttributes(/job:worker/replica:0/task:0/device:TPU:5, TPU, 0, 0)\n"
          ]
        },
        {
          "output_type": "stream",
          "name": "stderr",
          "text": [
            "INFO:tensorflow:*** Available Device: _DeviceAttributes(/job:worker/replica:0/task:0/device:TPU:5, TPU, 0, 0)\n"
          ]
        },
        {
          "output_type": "stream",
          "name": "stdout",
          "text": [
            "INFO:tensorflow:*** Available Device: _DeviceAttributes(/job:worker/replica:0/task:0/device:TPU:6, TPU, 0, 0)\n"
          ]
        },
        {
          "output_type": "stream",
          "name": "stderr",
          "text": [
            "INFO:tensorflow:*** Available Device: _DeviceAttributes(/job:worker/replica:0/task:0/device:TPU:6, TPU, 0, 0)\n"
          ]
        },
        {
          "output_type": "stream",
          "name": "stdout",
          "text": [
            "INFO:tensorflow:*** Available Device: _DeviceAttributes(/job:worker/replica:0/task:0/device:TPU:7, TPU, 0, 0)\n"
          ]
        },
        {
          "output_type": "stream",
          "name": "stderr",
          "text": [
            "INFO:tensorflow:*** Available Device: _DeviceAttributes(/job:worker/replica:0/task:0/device:TPU:7, TPU, 0, 0)\n"
          ]
        },
        {
          "output_type": "stream",
          "name": "stdout",
          "text": [
            "INFO:tensorflow:*** Available Device: _DeviceAttributes(/job:worker/replica:0/task:0/device:TPU_SYSTEM:0, TPU_SYSTEM, 0, 0)\n"
          ]
        },
        {
          "output_type": "stream",
          "name": "stderr",
          "text": [
            "INFO:tensorflow:*** Available Device: _DeviceAttributes(/job:worker/replica:0/task:0/device:TPU_SYSTEM:0, TPU_SYSTEM, 0, 0)\n"
          ]
        },
        {
          "output_type": "stream",
          "name": "stdout",
          "text": [
            "INFO:tensorflow:*** Available Device: _DeviceAttributes(/job:worker/replica:0/task:0/device:XLA_CPU:0, XLA_CPU, 0, 0)\n"
          ]
        },
        {
          "output_type": "stream",
          "name": "stderr",
          "text": [
            "INFO:tensorflow:*** Available Device: _DeviceAttributes(/job:worker/replica:0/task:0/device:XLA_CPU:0, XLA_CPU, 0, 0)\n"
          ]
        },
        {
          "output_type": "stream",
          "name": "stdout",
          "text": [
            "=3\n"
          ]
        }
      ]
    },
    {
      "cell_type": "code",
      "source": [
        "import os, re\n",
        "import random, math\n",
        "import numpy as np\n",
        "import tensorflow as tf\n",
        "import matplotlib.pyplot as plt\n",
        "import warnings \n",
        "warnings.filterwarnings(action='ignore')"
      ],
      "metadata": {
        "id": "GEIbXGHlNYcX"
      },
      "execution_count": 9,
      "outputs": []
    },
    {
      "cell_type": "code",
      "source": [
        "!mkdir -p Gdrive"
      ],
      "metadata": {
        "id": "1rtzCxgCPSVt"
      },
      "execution_count": null,
      "outputs": []
    },
    {
      "cell_type": "code",
      "source": [
        "!google-drive-ocamlfuse Gdrive"
      ],
      "metadata": {
        "id": "389-fbw4PTY3"
      },
      "execution_count": null,
      "outputs": []
    },
    {
      "cell_type": "code",
      "source": [
        "!ls"
      ],
      "metadata": {
        "colab": {
          "base_uri": "https://localhost:8080/"
        },
        "id": "aMJZZwsePVMV",
        "outputId": "a7320a3d-ec07-4458-d39d-459c7f2ce4c2"
      },
      "execution_count": null,
      "outputs": [
        {
          "output_type": "stream",
          "name": "stdout",
          "text": [
            "adc.json  Gdrive  sample_data\n"
          ]
        }
      ]
    },
    {
      "cell_type": "code",
      "source": [
        "!ls Gdrive"
      ],
      "metadata": {
        "colab": {
          "base_uri": "https://localhost:8080/"
        },
        "id": "CwGDsPzqPX-k",
        "outputId": "8e2412bd-6e65-4c62-fd2d-48d371f51685"
      },
      "execution_count": null,
      "outputs": [
        {
          "output_type": "stream",
          "name": "stdout",
          "text": [
            " 귤\n",
            " 잠\n",
            " 밥\n",
            "'새 폴더'\n",
            " 회로\n",
            " 공부\n",
            " 산책\n",
            " 클럽\n",
            " 먹방\n",
            " 웃음\n",
            " 노래\n",
            "'학식 고'\n",
            " 지하철\n",
            " 영화관\n",
            " 공부방\n",
            "'포트폴리오 - 영상 - 김선현 어드밴스'\n",
            "'사랑에빠진 귤이'\n",
            "'파일_000 (08db3a9c).jpeg'\n",
            "'파일_000 (0c906857).jpeg'\n",
            "'파일_000 (0f70e3fe).png'\n",
            "'파일_000 (1f01042b).jpeg'\n",
            "'파일_000 (293804dd).png'\n",
            "'파일_000 (2dfe88a0).png'\n",
            "'파일_000 (366fd6a8).jpeg'\n",
            "'파일_000 (3c61f657).png'\n",
            "'파일_000 (429974e7).jpeg'\n",
            "'파일_000 (45c0978d).jpeg'\n",
            "'파일_000 (45cee142).jpeg'\n",
            "'파일_000 (4ab2b995).jpeg'\n",
            "'파일_000 (4cc44fc9).png'\n",
            "'파일_000 (51935fd4).png'\n",
            "'파일_000 (5621fe32).jpeg'\n",
            "'파일_000 (8d3d6851).jpeg'\n",
            "'파일_000 (96a852e5).jpeg'\n",
            "'파일_000 (9b12d82a).jpeg'\n",
            "'파일_000 (bd9a9b63).jpeg'\n",
            "'파일_000 (f4810184).jpeg'\n",
            " 파일_000.jpeg\n",
            " 파일_000.png\n",
            " 파일_007.png\n",
            " 파일_008.png\n",
            " 파일_009.png\n",
            " 0117_1.desktop\n",
            " 0.pdf\n",
            " 1\n",
            " 1_001.pdf\n",
            " 10.pdf\n",
            " 11\n",
            "'대지 1-100.jpg'\n",
            "'박성훈 주간보고서1 10:22.docx'\n",
            " 11.pdf\n",
            " 11.psd\n",
            " 12\n",
            "'기초실험(1) 강의계획서_2020.hwp'\n",
            "'12 (a458bfb5).pdf'\n",
            " 12.pdf\n",
            " 13\n",
            "'1 (33b31c4c).pdf'\n",
            " 13.pdf\n",
            "'회로(1).(4장)문제풀이.b693085.박성훈.hwp'\n",
            " 14.pdf\n",
            "'1차실험 5조.hwp'\n",
            "'1626766488398-2021 창업동아리 신청서 (2) (1) (1).docx'\n",
            "'191704_오피스텔 월세 계약서.pdf'\n",
            "'미디어1 (9b86155d).mp4'\n",
            "'19p.1.3 샌드위치 정리 문제풀이 .pdf'\n",
            "'1 (ae087a70).pdf'\n",
            "'1 (d3cb2acc).pdf'\n",
            "'산재보험 자격취득자 명부 (1) (efb5d332).pdf'\n",
            "'1 (f748b403).pdf'\n",
            " 1.jpg\n",
            "'대지 1.mp4'\n",
            " 미디어1.mp4\n",
            " 1.mp4\n",
            "'박성훈 주간보고1.pages'\n",
            "'수료증 (1).pdf'\n",
            "'산재보험 자격취득자 명부 (1).pdf'\n",
            " 공무원생물1.pdf\n",
            " 전자기학1.pdf\n",
            " 1.pdf\n",
            "'대지 1.png'\n",
            " 노래1.png\n",
            " 귤2\n",
            " 응수2\n",
            " 전전기초2\n",
            "'200002_F5司 공통기술팀에서 개발표준 업무를 담딩하는 고성능 쌔信 개발팀에 SQL 작성.pdf'\n",
            " 2_002.pdf\n",
            " 20190312_170038_276.jpg\n",
            " 20190312_170045_512.jpg\n",
            " 20190312_170049_104.jpg\n",
            " 20190318_101355.jpg\n",
            " 20190320_143654.jpg\n",
            " 20190320_143717.jpg\n",
            " 20190320_143735.jpg\n",
            "'20190403_145028_756 (e58ef972).jpg'\n",
            " 20190403_145028_756.jpg\n",
            "'노트 2019. 10. 23..pdf'\n",
            "'새 파일 2020-02-06 14.11.38.pdf'\n",
            " 20200228_162813.mp4\n",
            " 20200228_164427.mp4\n",
            " 20200228_164530.mp4\n",
            "'20200305_전기기사 펼기.pdf'\n",
            "'스크린샷, 2020-04-01 오전 5.20.41.png'\n",
            " 20200517145933.pdf\n",
            " 20201103_002908.jpg\n",
            "'20201117_160747 (b801790a).jpg'\n",
            " 20201117_160747.jpg\n",
            " 20201117_162934.mp4\n",
            " 20201117_165334.jpg\n",
            "'20201117_170420 (9ca4c308).jpg'\n",
            "'20201117_170420 (b4c6324b).jpg'\n",
            " 20201117_170420.jpg\n",
            " 20201117_170548.jpg\n",
            "'20201201_151641 (d6496cb9).jpg'\n",
            " 20201201_151641.jpg\n",
            " 20201201_152302.jpg\n",
            " 20201201_153307.jpg\n",
            " 20201201_155919.jpg\n",
            " 20201201_161408.jpg\n",
            " 20201201_165955.jpg\n",
            "'20201201_172410(0).jpg'\n",
            " 20201201_172717.jpg\n",
            " 20201201_173538.jpg\n",
            " 20201201_173733.jpg\n",
            " 20201201_175003.jpg\n",
            " 20201201_175141.jpg\n",
            " 20201204_114955.jpg\n",
            " 20201204_115045.jpg\n",
            " 20201204_115134.jpg\n",
            " 20201211_181416.mp4\n",
            " 20201211_184750.mp4\n",
            " 20201211_185122.mp4\n",
            " 20201211_185535.mp4\n",
            " 20201211_191242.mp4\n",
            " 20201211_191410.mp4\n",
            " 20201211_194759.jpg\n",
            " 20201211_195249.jpg\n",
            " 20210612232955234.pdf\n",
            " 20210625172540524.pdf\n",
            "'20211112_005732 (d42f21b6).mp4'\n",
            " 20211112_005732.mp4\n",
            "'2021 실전창업교육2기 1단계 사업계획서 박성훈 01031907972 (297ffd55).pdf'\n",
            "'2021 실전창업교육2기 1단계 사업계획서 박성훈 01031907972 (b258bbc2).pdf'\n",
            "'2021 실전창업교육2기 1단계 사업계획서 박성훈 01031907972.pdf'\n",
            "'2021. 2. 2. 오후 8_32_31.mp3'\n",
            "'20220123_SGL 최적화 기본 원리.pdf'\n",
            "'20220123_S○L        활용.pdf'\n",
            "'20220123_SoL 전문가 .pdf'\n",
            "'20220123_국가공인 SQL 전문가개발자 자격검정 안내1.pdf'\n",
            "'이름 없는 노트북 (20).pdf'\n",
            "'박성훈 주간보고서2 11:04.docx'\n",
            " 22.pdf\n",
            "'전기전자기초실험2. 5조. 결과보고서 11월17일 (99cc2499).hwp'\n",
            "'전기전자기초실험2. 5조. 결과보고서 11월17일.hwp'\n",
            "'전기전자기초실험2. 5조. 결과보고서 12월 04일. (98309db3).hwp'\n",
            "'전기전자기초실험2. 5조. 결과보고서 12월 04일.hwp'\n",
            "'전기전자기초실험2. 5조. 결과보고서 12월 04일..hwp'\n",
            "'2차실험 5조.hwp'\n",
            "'2 (76ba16f8).pdf'\n",
            " 27.jpg\n",
            "'2 (ac6ab036).pdf'\n",
            " 피맥2.ai3.ai\n",
            " 2.jpg\n",
            " 2.mp4\n",
            "'가져온 파일 (2).pdf'\n",
            " 전자기학2.pdf\n",
            " 생물2.pdf\n",
            " 유2.pdf\n",
            " 2.pdf\n",
            " 뭐해최종2.png\n",
            " 3_001.pdf\n",
            " 3_002.pdf\n",
            "'3 (086d2d26).pdf'\n",
            " 31.jpg\n",
            " 33.pdf\n",
            "'3차 실험 5조.hwp'\n",
            "'3 (722faf87).pdf'\n",
            " 3.jpg\n",
            " 실험3.mp4\n",
            " 3.mp4\n",
            " 전자기학3.pdf\n",
            " 생물3.pdf\n",
            " 유3.pdf\n",
            " 3.pdf\n",
            " 일하는중3.png\n",
            " 4_001.pdf\n",
            " 4_002.pdf\n",
            "'4 (1b8945df).pdf'\n",
            " 44_001.pdf\n",
            " 44_002.pdf\n",
            " 44_003.pdf\n",
            " 44.pdf\n",
            "'4차실험 5조.hwp'\n",
            "'4 (b4de70fd).pdf'\n",
            " 4차실험.hwp\n",
            " 전자기학4.pdf\n",
            " 생물4.pdf\n",
            " 유4.pdf\n",
            " 4.pdf\n",
            " 5_001.pdf\n",
            " 5_002.pdf\n",
            "'5 (278ac527).pdf'\n",
            "'창의적공학설계 5조 3차발표3.pptx'\n",
            "'5 (74ea06f2).pdf'\n",
            "'5 (8a2e3031).pdf'\n",
            "'가져온 파일 (5).pdf'\n",
            " 전자기학5.pdf\n",
            " 생물5.pdf\n",
            " 유5.pdf\n",
            " 5.pdf\n",
            " 6_001.pdf\n",
            " 6_002.pdf\n",
            " 62.pdf\n",
            " 63.pdf\n",
            " 64.pdf\n",
            " 65.pdf\n",
            " 66.pdf\n",
            " 67.pdf\n",
            " 68.pdf\n",
            " 69.pdf\n",
            " 전자기학6.pdf\n",
            " 생6.pdf\n",
            " 6.pdf\n",
            " 7_001.pdf\n",
            " 70.pdf\n",
            "'7 (2f026fd9).pdf'\n",
            "'가져온 파일 (7).pdf'\n",
            " 전자기학7.pdf\n",
            " 생7.pdf\n",
            " 7.pdf\n",
            " 7.psd\n",
            "'8 (f817bad0).pdf'\n",
            " 8.pdf\n",
            " 9.pdf\n",
            " 9.psd\n",
            " adjustable-gamma-correction-circuit-for-tft-lcd.pdf\n",
            " ans1.pdf\n",
            " ans2.pdf\n",
            " ans3.pdf\n",
            " ans4.pdf\n",
            "'answer of tofel.pdf'\n",
            " 동서식품.avi\n",
            "'B693085 박성훈 인턴십현장실습_장학생_실습시작_보고서 (2) (1).hwp'\n",
            "'B693085 박성훈 회로이론 6장.pdf'\n",
            "'B693085 박성훈 인턴십현장실습_장학생_실습시작_보고서.. (84fed97e).hwp'\n",
            "'b693085  박성훈 과제입니다.hwp'\n",
            "'B693085 박성훈 인턴십현장실습_장학생_실습시작_보고서...hwp'\n",
            "'박성훈 b693085 성평등.pdf'\n",
            "'b693085 박성훈 전전컴 term project (866743dc).pptx'\n",
            "'b693085 박성훈 전전컴 term project.pptx'\n",
            "'ch07-에너지 저장 소자.pdf'\n",
            "'Chapter 10 반도체공학.pdf'\n",
            " Classroom\n",
            "'Colab Notebooks'\n",
            " Comic-Inker.brush\n",
            "'cs231n_2018_lecture06 (88238c23).pdf'\n",
            " cs231n_2018_lecture06.pdf\n",
            "'제목 없는 프레젠테이션.desktop'\n",
            " ㄱㅌ.desktop\n",
            " 질문방.desktop\n",
            " dg1.jpg\n",
            " dg1.pdf\n",
            " dg2.pdf\n",
            " dg3.pdf\n",
            " dg4.pdf\n",
            " dg5.pdf\n",
            " Dsp\n",
            " EX08.ipynb\n",
            " ex09\n",
            "'[창업동아리] 가지급금 정산 서식_스틸시프트. (fc2848f8).hwp'\n",
            " gen1.pdf\n",
            " gen2.pdf\n",
            " gen3.pdf\n",
            " gen4.pdf\n",
            " gen5.pdf\n",
            " gen6.pdf\n",
            " gen7.pdf\n",
            " gen8.pdf\n",
            " gen9.pdf\n",
            " generalphs.pdf\n",
            "'GOMCAM 20200401_0927590540.mp4'\n",
            "'GOMCAM 20210317_1000030074.mp4'\n",
            "'GOMCAM 20210331_0959440143 (fbd16501).zip'\n",
            "'GOMCAM 20210331_0959440143.zip'\n",
            " gp2.pdf\n",
            " gp3.pdf\n",
            " gp4.pdf\n",
            " gp5.pdf\n",
            " gp6.pdf\n",
            " GREVER홀수1.pdf\n",
            " GREVER홀수2.pdf\n",
            " GREVER홀수3.pdf\n",
            " GREVER홀수4.pdf\n",
            "'[창업동아리] 가지급금 정산 서식_스틸시프트..hwp'\n",
            " HyperParameterData1.desktop\n",
            " IMG-0351.jpg\n",
            "'IMG_0640 (79204a6c).jpg'\n",
            " IMG_0640.jpg\n",
            "'IMG_0641 (a071b958).jpg'\n",
            " IMG_0641.jpg\n",
            " IMG_1683.JPG\n",
            " j2.pdf\n",
            " j3.pdf\n",
            " j4.pdf\n",
            " j5.pdf\n",
            " j6.pdf\n",
            " j7.pdf\n",
            " j8.pdf\n",
            " j9.pdf\n",
            " ㄷ.jpg\n",
            " 엄마아빠.jpg\n",
            " KakaoTalk_Image_2021-12-29-10-39-53.jpeg\n",
            " KakaoTalk_Video_2021-11-28-20-37-54.mp4\n",
            " k.png\n",
            "'lab5 오류수정 최종 TB.PNG'\n",
            " lc1.pdf\n",
            "'lc2 (514fc492).pdf'\n",
            " lc2.pdf\n",
            "'lc3 (a2dbe136).pdf'\n",
            " lc3.pdf\n",
            "'lc4 (b58d9007).pdf'\n",
            " lc4.pdf\n",
            " lc5.pdf\n",
            " lc6.pdf\n",
            "'lecture_6 : Training Neural Networks.desktop'\n",
            "'lidarsensor (010853c5).mp4'\n",
            " lidarsensor.mp4\n",
            " 제목_없는_아트워크.mp4\n",
            "'New hwp.hwp'\n",
            " Notability\n",
            "'Notability (840b2f73)'\n",
            "'Notability (dc675e59)'\n",
            "'page_ (d5a3a661).pdf'\n",
            " page_.pdf\n",
            " 수료증.pdf\n",
            " 이기적유.pdf\n",
            "'해지신청서 예시포함.pdf'\n",
            " 프레젠테이션.pdf\n",
            "'가져온 파일.pdf'\n",
            " 대학물리.pdf\n",
            " 빈출단어.pdf\n",
            " 피맥.png\n",
            " 지하철.png\n",
            " 톰크루즈.png\n",
            " 컴퓨터일과.png\n",
            " 노래방최종.png\n",
            "'라이다 임베디드 프로젝트.pptx'\n",
            "'박성훈 창업경진대회.pptx'\n",
            " q1.pdf\n",
            " q2.pdf\n",
            " q3.pdf\n",
            " q4.pdf\n",
            " q5.pdf\n",
            " 박성훈resume.01026837972.docx\n",
            " 박성훈resume.01026837972.docx\n",
            " s1.pdf\n",
            " s2.pdf\n",
            " s3.pdf\n",
            " s4.pdf\n",
            " s5.pdf\n",
            " s6.pdf\n",
            " s7.pdf\n",
            " s8.pdf\n",
            " ScanSnap\n",
            " sk2.pdf\n",
            " sk3.pdf\n",
            " sk4.pdf\n",
            " s노래.png\n",
            " sw1.pdf\n",
            " sw2.pdf\n",
            " sw3.pdf\n",
            " sw4.pdf\n",
            " sw5.pdf\n",
            " sw6.pdf\n",
            " sw7.pdf\n",
            " sw8.pdf\n",
            " t0.pdf\n",
            " t1.pdf\n",
            " t2.pdf\n",
            " tffault.pdf\n",
            "'TFLC1 (df660d90).pdf'\n",
            " tflc1.pdf\n",
            " TFLC1.pdf\n",
            "'TFLC2 (86f4c69c).pdf'\n",
            " TFLC2.pdf\n",
            "'TFLC3 (1a44a0aa).pdf'\n",
            " TFLC3.pdf\n",
            "'TFLC4 (6b144248).pdf'\n",
            " TFLC4.pdf\n",
            "'TFLC5 (35c95b33).pdf'\n",
            " TFLC5.pdf\n",
            "'TFLC6 (68599b2b).pdf'\n",
            " TFLC6.pdf\n",
            " tfmr1.pdf\n",
            " tfmr2.pdf\n",
            " tfmr3.pdf\n",
            " tfmr4.pdf\n",
            " tfmr5.pdf\n",
            " tfsk1.pdf\n",
            "'Thinking forum.pdf'\n",
            " toaz.info-microelectronic-circuits-by-sedra-smith-7th-editionpdf-pr_25e4a85f6ef2079300ee4d8656758c1c.pdf\n",
            " Track_100.mp3\n",
            " Track_101.mp3\n",
            " Track_102.mp3\n",
            " Track_103.mp3\n",
            " Track_104.mp3\n",
            " Track_105.mp3\n",
            " Track_106.mp3\n",
            " Track_107.mp3\n",
            " Track_108.mp3\n",
            " Track_109.mp3\n",
            " Track_10.mp3\n",
            " Track_110.mp3\n",
            " Track_111.mp3\n",
            " Track_112.mp3\n",
            " Track_113.mp3\n",
            " Track_114.mp3\n",
            " Track_115.mp3\n",
            " Track_116.mp3\n",
            " Track_117.mp3\n",
            " Track_118.mp3\n",
            " Track_119.mp3\n",
            " Track_11.mp3\n",
            " Track_120.mp3\n",
            " Track_121.mp3\n",
            " Track_122.mp3\n",
            " Track_123.mp3\n",
            " Track_124.mp3\n",
            " Track_125.mp3\n",
            " Track_126.mp3\n",
            " Track_127.mp3\n",
            " Track_128.mp3\n",
            " Track_129.mp3\n",
            " Track_12.mp3\n",
            " Track_130.mp3\n",
            " Track_131.mp3\n",
            " Track_132.mp3\n",
            " Track_133.mp3\n",
            " Track_134.mp3\n",
            " Track_135.mp3\n",
            " Track_136.mp3\n",
            " Track_137.mp3\n",
            " Track_138.mp3\n",
            " Track_139.mp3\n",
            " Track_13.mp3\n",
            " Track_140.mp3\n",
            " Track_141.mp3\n",
            " Track_142.mp3\n",
            " Track_143.mp3\n",
            " Track_144.mp3\n",
            " Track_145.mp3\n",
            " Track_146.mp3\n",
            " Track_147.mp3\n",
            " Track_148.mp3\n",
            " Track_149.mp3\n",
            " Track_14.mp3\n",
            " Track_150.mp3\n",
            " Track_151.mp3\n",
            " Track_152.mp3\n",
            " Track_153.mp3\n",
            " Track_154.mp3\n",
            " Track_155.mp3\n",
            " Track_156.mp3\n",
            " Track_157.mp3\n",
            " Track_158.mp3\n",
            " Track_159.mp3\n",
            " Track_15.mp3\n",
            " Track_160.mp3\n",
            " Track_161.mp3\n",
            " Track_162.mp3\n",
            " Track_163.mp3\n",
            " Track_164.mp3\n",
            " Track_165.mp3\n",
            " Track_166.mp3\n",
            " Track_167.mp3\n",
            " Track_168.mp3\n",
            " Track_16.mp3\n",
            " Track_17.mp3\n",
            " Track_18.mp3\n",
            " Track_19.mp3\n",
            " Track_1.mp3\n",
            " Track_20.mp3\n",
            " Track_21.mp3\n",
            " Track_22.mp3\n",
            " Track_23.mp3\n",
            " Track_24.mp3\n",
            " Track_25.mp3\n",
            " Track_26.mp3\n",
            " Track_27.mp3\n",
            " Track_28.mp3\n",
            " Track_29.mp3\n",
            " Track_2.mp3\n",
            " Track_30.mp3\n",
            " Track_31.mp3\n",
            " Track_32.mp3\n",
            " Track_33.mp3\n",
            " Track_34.mp3\n",
            " Track_35.mp3\n",
            " Track_36.mp3\n",
            " Track_37.mp3\n",
            " Track_38.mp3\n",
            " Track_39.mp3\n",
            " Track_3.mp3\n",
            " Track_40.mp3\n",
            " Track_41.mp3\n",
            " Track_42.mp3\n",
            " Track_43.mp3\n",
            " Track_44.mp3\n",
            " Track_45.mp3\n",
            " Track_46.mp3\n",
            " Track_47.mp3\n",
            " Track_48.mp3\n",
            " Track_49.mp3\n",
            " Track_4.mp3\n",
            " Track_50.mp3\n",
            " Track_51.mp3\n",
            " Track_52.mp3\n",
            " Track_53.mp3\n",
            " Track_54.mp3\n",
            " Track_55.mp3\n",
            " Track_56.mp3\n",
            " Track_57.mp3\n",
            " Track_58.mp3\n",
            " Track_59.mp3\n",
            " Track_5.mp3\n",
            " Track_60.mp3\n",
            " Track_61.mp3\n",
            " Track_62.mp3\n",
            " Track_63.mp3\n",
            " Track_64.mp3\n",
            " Track_65.mp3\n",
            " Track_66.mp3\n",
            " Track_67.mp3\n",
            " Track_68.mp3\n",
            " Track_69.mp3\n",
            " Track_6.mp3\n",
            " Track_70.mp3\n",
            " Track_71.mp3\n",
            " Track_72.mp3\n",
            " Track_73.mp3\n",
            " Track_74.mp3\n",
            " Track_75.mp3\n",
            " Track_76.mp3\n",
            " Track_77.mp3\n",
            " Track_78.mp3\n",
            " Track_79.mp3\n",
            " Track_7.mp3\n",
            " Track_80.mp3\n",
            " Track_81.mp3\n",
            " Track_82.mp3\n",
            " Track_83.mp3\n",
            " Track_84.mp3\n",
            " Track_85.mp3\n",
            " Track_86.mp3\n",
            " Track_87.mp3\n",
            " Track_88.mp3\n",
            " Track_89.mp3\n",
            " Track_8.mp3\n",
            " Track_90.mp3\n",
            " Track_91.mp3\n",
            " Track_92.mp3\n",
            " Track_93.mp3\n",
            " Track_94.mp3\n",
            " Track_95.mp3\n",
            " Track_96.mp3\n",
            " Track_97.mp3\n",
            " Track_98.mp3\n",
            " Track_99.mp3\n",
            " Track_9.mp3\n",
            " Untitled0.ipynb\n",
            "'물방울 컴퍼니 UXUI 디자인.ai'\n",
            " v1.pdf\n",
            " v2.pdf\n",
            " v3.pdf\n",
            " v4.pdf\n",
            " VID_45730809_164818_540.mp4\n",
            " VID_45730810_192015_886.mp4\n",
            " wr중급실전2.pdf\n",
            " WR중급실전3.pdf\n",
            " wr중급실전.pdf\n",
            " wt1.pdf\n",
            " wt2.pdf\n",
            " wt3.pdf\n",
            " wt4.pdf\n",
            " wt5.pdf\n",
            " wt6.pdf\n",
            " wt7.pdf\n",
            " wt8.pdf\n",
            " wt9.pdf\n",
            " wtdap1.pdf\n",
            " wtdap2.pdf\n",
            " wtdap3.pdf\n",
            " Y\n"
          ]
        }
      ]
    },
    {
      "cell_type": "code",
      "source": [
        "\n",
        "! mkdir -p ~/aiffel/chest_xray\n",
        "! ln -s ~/data/ ~/aiffel/chest_xray"
      ],
      "metadata": {
        "id": "kF5JdI2WQuyk"
      },
      "execution_count": null,
      "outputs": []
    },
    {
      "cell_type": "code",
      "source": [
        "# google.colab에서 드라이브 가져오기 \n",
        "from google.colab import drive\n",
        "drive.mount('/gdrive')"
      ],
      "metadata": {
        "colab": {
          "base_uri": "https://localhost:8080/"
        },
        "id": "36A7EuSf8Kh9",
        "outputId": "7b3fbe45-f6a0-41d6-e06a-c651f847c265"
      },
      "execution_count": 20,
      "outputs": [
        {
          "output_type": "stream",
          "name": "stdout",
          "text": [
            "Mounted at /gdrive\n"
          ]
        }
      ]
    },
    {
      "cell_type": "markdown",
      "source": [
        ""
      ],
      "metadata": {
        "id": "oke7NSmxQuj-"
      }
    },
    {
      "cell_type": "code",
      "source": [
        "# 데이터 로드할 때 빠르게 로드할 수 있도록하는 설정 변수\n",
        "AUTOTUNE = tf.data.experimental.AUTOTUNE\n",
        "# X-RAY 이미지 사이즈 변수\n",
        "IMAGE_SIZE = [180, 180]\n",
        "\n",
        "# 데이터 경로 변수\n",
        "ROOT_PATH = '/gdrive/My Drive/ex09/chest_xray'\n",
        "TRAIN_PATH = ROOT_PATH + '/train/*/*' # *은 모든 디렉토리와 파일을 의미합니다.\n",
        "VAL_PATH = ROOT_PATH + '/val/*/*'\n",
        "TEST_PATH = ROOT_PATH + '/test/*/*'\n",
        "\n",
        "# 프로젝트를 진행할 때 아래 두 변수를 변경해보세요\n",
        "BATCH_SIZE = 16\n",
        "EPOCHS = 25\n",
        "\n",
        "print(ROOT_PATH)"
      ],
      "metadata": {
        "colab": {
          "base_uri": "https://localhost:8080/"
        },
        "id": "XGXPfN0kNawX",
        "outputId": "03f3d0b9-ecf0-4658-b68f-3905bad32a95"
      },
      "execution_count": 22,
      "outputs": [
        {
          "output_type": "stream",
          "name": "stdout",
          "text": [
            "/gdrive/My Drive/ex09/chest_xray\n"
          ]
        }
      ]
    },
    {
      "cell_type": "code",
      "source": [
        ""
      ],
      "metadata": {
        "colab": {
          "base_uri": "https://localhost:8080/",
          "height": 602
        },
        "id": "SeW6ZnxU-Pf_",
        "outputId": "b5cec515-4a1b-445b-f70f-e7159fa7e981"
      },
      "execution_count": 11,
      "outputs": [
        {
          "output_type": "error",
          "ename": "KeyboardInterrupt",
          "evalue": "ignored",
          "traceback": [
            "\u001b[0;31m---------------------------------------------------------------------------\u001b[0m",
            "\u001b[0;31mKeyboardInterrupt\u001b[0m                         Traceback (most recent call last)",
            "\u001b[0;32m/usr/local/lib/python3.7/dist-packages/ipykernel/kernelbase.py\u001b[0m in \u001b[0;36m_input_request\u001b[0;34m(self, prompt, ident, parent, password)\u001b[0m\n\u001b[1;32m    728\u001b[0m             \u001b[0;32mtry\u001b[0m\u001b[0;34m:\u001b[0m\u001b[0;34m\u001b[0m\u001b[0;34m\u001b[0m\u001b[0m\n\u001b[0;32m--> 729\u001b[0;31m                 \u001b[0mident\u001b[0m\u001b[0;34m,\u001b[0m \u001b[0mreply\u001b[0m \u001b[0;34m=\u001b[0m \u001b[0mself\u001b[0m\u001b[0;34m.\u001b[0m\u001b[0msession\u001b[0m\u001b[0;34m.\u001b[0m\u001b[0mrecv\u001b[0m\u001b[0;34m(\u001b[0m\u001b[0mself\u001b[0m\u001b[0;34m.\u001b[0m\u001b[0mstdin_socket\u001b[0m\u001b[0;34m,\u001b[0m \u001b[0;36m0\u001b[0m\u001b[0;34m)\u001b[0m\u001b[0;34m\u001b[0m\u001b[0;34m\u001b[0m\u001b[0m\n\u001b[0m\u001b[1;32m    730\u001b[0m             \u001b[0;32mexcept\u001b[0m \u001b[0mException\u001b[0m\u001b[0;34m:\u001b[0m\u001b[0;34m\u001b[0m\u001b[0;34m\u001b[0m\u001b[0m\n",
            "\u001b[0;32m/usr/local/lib/python3.7/dist-packages/jupyter_client/session.py\u001b[0m in \u001b[0;36mrecv\u001b[0;34m(self, socket, mode, content, copy)\u001b[0m\n\u001b[1;32m    802\u001b[0m         \u001b[0;32mtry\u001b[0m\u001b[0;34m:\u001b[0m\u001b[0;34m\u001b[0m\u001b[0;34m\u001b[0m\u001b[0m\n\u001b[0;32m--> 803\u001b[0;31m             \u001b[0mmsg_list\u001b[0m \u001b[0;34m=\u001b[0m \u001b[0msocket\u001b[0m\u001b[0;34m.\u001b[0m\u001b[0mrecv_multipart\u001b[0m\u001b[0;34m(\u001b[0m\u001b[0mmode\u001b[0m\u001b[0;34m,\u001b[0m \u001b[0mcopy\u001b[0m\u001b[0;34m=\u001b[0m\u001b[0mcopy\u001b[0m\u001b[0;34m)\u001b[0m\u001b[0;34m\u001b[0m\u001b[0;34m\u001b[0m\u001b[0m\n\u001b[0m\u001b[1;32m    804\u001b[0m         \u001b[0;32mexcept\u001b[0m \u001b[0mzmq\u001b[0m\u001b[0;34m.\u001b[0m\u001b[0mZMQError\u001b[0m \u001b[0;32mas\u001b[0m \u001b[0me\u001b[0m\u001b[0;34m:\u001b[0m\u001b[0;34m\u001b[0m\u001b[0;34m\u001b[0m\u001b[0m\n",
            "\u001b[0;32m/usr/local/lib/python3.7/dist-packages/zmq/sugar/socket.py\u001b[0m in \u001b[0;36mrecv_multipart\u001b[0;34m(self, flags, copy, track)\u001b[0m\n\u001b[1;32m    624\u001b[0m         \"\"\"\n\u001b[0;32m--> 625\u001b[0;31m         \u001b[0mparts\u001b[0m \u001b[0;34m=\u001b[0m \u001b[0;34m[\u001b[0m\u001b[0mself\u001b[0m\u001b[0;34m.\u001b[0m\u001b[0mrecv\u001b[0m\u001b[0;34m(\u001b[0m\u001b[0mflags\u001b[0m\u001b[0;34m,\u001b[0m \u001b[0mcopy\u001b[0m\u001b[0;34m=\u001b[0m\u001b[0mcopy\u001b[0m\u001b[0;34m,\u001b[0m \u001b[0mtrack\u001b[0m\u001b[0;34m=\u001b[0m\u001b[0mtrack\u001b[0m\u001b[0;34m)\u001b[0m\u001b[0;34m]\u001b[0m\u001b[0;34m\u001b[0m\u001b[0;34m\u001b[0m\u001b[0m\n\u001b[0m\u001b[1;32m    626\u001b[0m         \u001b[0;31m# have first part already, only loop while more to receive\u001b[0m\u001b[0;34m\u001b[0m\u001b[0;34m\u001b[0m\u001b[0;34m\u001b[0m\u001b[0m\n",
            "\u001b[0;32mzmq/backend/cython/socket.pyx\u001b[0m in \u001b[0;36mzmq.backend.cython.socket.Socket.recv\u001b[0;34m()\u001b[0m\n",
            "\u001b[0;32mzmq/backend/cython/socket.pyx\u001b[0m in \u001b[0;36mzmq.backend.cython.socket.Socket.recv\u001b[0;34m()\u001b[0m\n",
            "\u001b[0;32mzmq/backend/cython/socket.pyx\u001b[0m in \u001b[0;36mzmq.backend.cython.socket._recv_copy\u001b[0;34m()\u001b[0m\n",
            "\u001b[0;32m/usr/local/lib/python3.7/dist-packages/zmq/backend/cython/checkrc.pxd\u001b[0m in \u001b[0;36mzmq.backend.cython.checkrc._check_rc\u001b[0;34m()\u001b[0m\n",
            "\u001b[0;31mKeyboardInterrupt\u001b[0m: ",
            "\nDuring handling of the above exception, another exception occurred:\n",
            "\u001b[0;31mKeyboardInterrupt\u001b[0m                         Traceback (most recent call last)",
            "\u001b[0;32m<ipython-input-11-a1aeae628a7c>\u001b[0m in \u001b[0;36m<module>\u001b[0;34m()\u001b[0m\n\u001b[1;32m      7\u001b[0m \u001b[0;34m\u001b[0m\u001b[0m\n\u001b[1;32m      8\u001b[0m \u001b[0;31m# 1. Authenticate and create the PyDrive client.\u001b[0m\u001b[0;34m\u001b[0m\u001b[0;34m\u001b[0m\u001b[0;34m\u001b[0m\u001b[0m\n\u001b[0;32m----> 9\u001b[0;31m \u001b[0mauth\u001b[0m\u001b[0;34m.\u001b[0m\u001b[0mauthenticate_user\u001b[0m\u001b[0;34m(\u001b[0m\u001b[0;34m)\u001b[0m\u001b[0;34m\u001b[0m\u001b[0;34m\u001b[0m\u001b[0m\n\u001b[0m\u001b[1;32m     10\u001b[0m \u001b[0mgauth\u001b[0m \u001b[0;34m=\u001b[0m \u001b[0mGoogleAuth\u001b[0m\u001b[0;34m(\u001b[0m\u001b[0;34m)\u001b[0m\u001b[0;34m\u001b[0m\u001b[0;34m\u001b[0m\u001b[0m\n\u001b[1;32m     11\u001b[0m \u001b[0mgauth\u001b[0m\u001b[0;34m.\u001b[0m\u001b[0mcredentials\u001b[0m \u001b[0;34m=\u001b[0m \u001b[0mGoogleCredentials\u001b[0m\u001b[0;34m.\u001b[0m\u001b[0mget_application_default\u001b[0m\u001b[0;34m(\u001b[0m\u001b[0;34m)\u001b[0m\u001b[0;34m\u001b[0m\u001b[0;34m\u001b[0m\u001b[0m\n",
            "\u001b[0;32m/usr/local/lib/python3.7/dist-packages/google/colab/auth.py\u001b[0m in \u001b[0;36mauthenticate_user\u001b[0;34m(clear_output)\u001b[0m\n\u001b[1;32m    151\u001b[0m     \u001b[0mcontext_manager\u001b[0m \u001b[0;34m=\u001b[0m \u001b[0m_output\u001b[0m\u001b[0;34m.\u001b[0m\u001b[0mtemporary\u001b[0m \u001b[0;32mif\u001b[0m \u001b[0mclear_output\u001b[0m \u001b[0;32melse\u001b[0m \u001b[0m_noop\u001b[0m\u001b[0;34m\u001b[0m\u001b[0;34m\u001b[0m\u001b[0m\n\u001b[1;32m    152\u001b[0m     \u001b[0;32mwith\u001b[0m \u001b[0mcontext_manager\u001b[0m\u001b[0;34m(\u001b[0m\u001b[0;34m)\u001b[0m\u001b[0;34m:\u001b[0m\u001b[0;34m\u001b[0m\u001b[0;34m\u001b[0m\u001b[0m\n\u001b[0;32m--> 153\u001b[0;31m       \u001b[0m_gcloud_login\u001b[0m\u001b[0;34m(\u001b[0m\u001b[0;34m)\u001b[0m\u001b[0;34m\u001b[0m\u001b[0;34m\u001b[0m\u001b[0m\n\u001b[0m\u001b[1;32m    154\u001b[0m     \u001b[0m_install_adc\u001b[0m\u001b[0;34m(\u001b[0m\u001b[0;34m)\u001b[0m\u001b[0;34m\u001b[0m\u001b[0;34m\u001b[0m\u001b[0m\n\u001b[1;32m    155\u001b[0m     \u001b[0mcolab_tpu_addr\u001b[0m \u001b[0;34m=\u001b[0m \u001b[0m_os\u001b[0m\u001b[0;34m.\u001b[0m\u001b[0menviron\u001b[0m\u001b[0;34m.\u001b[0m\u001b[0mget\u001b[0m\u001b[0;34m(\u001b[0m\u001b[0;34m'COLAB_TPU_ADDR'\u001b[0m\u001b[0;34m,\u001b[0m \u001b[0;34m''\u001b[0m\u001b[0;34m)\u001b[0m\u001b[0;34m\u001b[0m\u001b[0;34m\u001b[0m\u001b[0m\n",
            "\u001b[0;32m/usr/local/lib/python3.7/dist-packages/google/colab/auth.py\u001b[0m in \u001b[0;36m_gcloud_login\u001b[0;34m()\u001b[0m\n\u001b[1;32m     93\u001b[0m     \u001b[0;31m# https://github.com/jupyter/notebook/issues/3159\u001b[0m\u001b[0;34m\u001b[0m\u001b[0;34m\u001b[0m\u001b[0;34m\u001b[0m\u001b[0m\n\u001b[1;32m     94\u001b[0m     \u001b[0mprompt\u001b[0m \u001b[0;34m=\u001b[0m \u001b[0mprompt\u001b[0m\u001b[0;34m.\u001b[0m\u001b[0mrstrip\u001b[0m\u001b[0;34m(\u001b[0m\u001b[0;34m)\u001b[0m\u001b[0;34m\u001b[0m\u001b[0;34m\u001b[0m\u001b[0m\n\u001b[0;32m---> 95\u001b[0;31m     \u001b[0mcode\u001b[0m \u001b[0;34m=\u001b[0m \u001b[0mget_code\u001b[0m\u001b[0;34m(\u001b[0m\u001b[0mprompt\u001b[0m \u001b[0;34m+\u001b[0m \u001b[0;34m' '\u001b[0m\u001b[0;34m)\u001b[0m\u001b[0;34m\u001b[0m\u001b[0;34m\u001b[0m\u001b[0m\n\u001b[0m\u001b[1;32m     96\u001b[0m     \u001b[0mgcloud_process\u001b[0m\u001b[0;34m.\u001b[0m\u001b[0mcommunicate\u001b[0m\u001b[0;34m(\u001b[0m\u001b[0mcode\u001b[0m\u001b[0;34m.\u001b[0m\u001b[0mstrip\u001b[0m\u001b[0;34m(\u001b[0m\u001b[0;34m)\u001b[0m\u001b[0;34m)\u001b[0m\u001b[0;34m\u001b[0m\u001b[0;34m\u001b[0m\u001b[0m\n\u001b[1;32m     97\u001b[0m   \u001b[0;32mfinally\u001b[0m\u001b[0;34m:\u001b[0m\u001b[0;34m\u001b[0m\u001b[0;34m\u001b[0m\u001b[0m\n",
            "\u001b[0;32m/usr/local/lib/python3.7/dist-packages/ipykernel/kernelbase.py\u001b[0m in \u001b[0;36mraw_input\u001b[0;34m(self, prompt)\u001b[0m\n\u001b[1;32m    702\u001b[0m             \u001b[0mself\u001b[0m\u001b[0;34m.\u001b[0m\u001b[0m_parent_ident\u001b[0m\u001b[0;34m,\u001b[0m\u001b[0;34m\u001b[0m\u001b[0;34m\u001b[0m\u001b[0m\n\u001b[1;32m    703\u001b[0m             \u001b[0mself\u001b[0m\u001b[0;34m.\u001b[0m\u001b[0m_parent_header\u001b[0m\u001b[0;34m,\u001b[0m\u001b[0;34m\u001b[0m\u001b[0;34m\u001b[0m\u001b[0m\n\u001b[0;32m--> 704\u001b[0;31m             \u001b[0mpassword\u001b[0m\u001b[0;34m=\u001b[0m\u001b[0;32mFalse\u001b[0m\u001b[0;34m,\u001b[0m\u001b[0;34m\u001b[0m\u001b[0;34m\u001b[0m\u001b[0m\n\u001b[0m\u001b[1;32m    705\u001b[0m         )\n\u001b[1;32m    706\u001b[0m \u001b[0;34m\u001b[0m\u001b[0m\n",
            "\u001b[0;32m/usr/local/lib/python3.7/dist-packages/ipykernel/kernelbase.py\u001b[0m in \u001b[0;36m_input_request\u001b[0;34m(self, prompt, ident, parent, password)\u001b[0m\n\u001b[1;32m    732\u001b[0m             \u001b[0;32mexcept\u001b[0m \u001b[0mKeyboardInterrupt\u001b[0m\u001b[0;34m:\u001b[0m\u001b[0;34m\u001b[0m\u001b[0;34m\u001b[0m\u001b[0m\n\u001b[1;32m    733\u001b[0m                 \u001b[0;31m# re-raise KeyboardInterrupt, to truncate traceback\u001b[0m\u001b[0;34m\u001b[0m\u001b[0;34m\u001b[0m\u001b[0;34m\u001b[0m\u001b[0m\n\u001b[0;32m--> 734\u001b[0;31m                 \u001b[0;32mraise\u001b[0m \u001b[0mKeyboardInterrupt\u001b[0m\u001b[0;34m\u001b[0m\u001b[0;34m\u001b[0m\u001b[0m\n\u001b[0m\u001b[1;32m    735\u001b[0m             \u001b[0;32melse\u001b[0m\u001b[0;34m:\u001b[0m\u001b[0;34m\u001b[0m\u001b[0;34m\u001b[0m\u001b[0m\n\u001b[1;32m    736\u001b[0m                 \u001b[0;32mbreak\u001b[0m\u001b[0;34m\u001b[0m\u001b[0;34m\u001b[0m\u001b[0m\n",
            "\u001b[0;31mKeyboardInterrupt\u001b[0m: "
          ]
        }
      ]
    },
    {
      "cell_type": "code",
      "source": [
        "!gsutil list"
      ],
      "metadata": {
        "colab": {
          "base_uri": "https://localhost:8080/"
        },
        "id": "f7tkKtA9QtrS",
        "outputId": "852b71c0-b0d7-411f-e06f-751ab7a81850"
      },
      "execution_count": null,
      "outputs": [
        {
          "output_type": "stream",
          "name": "stdout",
          "text": [
            "You are attempting to perform an operation that requires a project id, with none configured. Please re-run gsutil config and make sure to follow the instructions for finding and entering your default project id.\n"
          ]
        }
      ]
    },
    {
      "cell_type": "code",
      "source": [
        "import glob\n",
        "train_filenames = glob.glob(TRAIN_PATH)\n",
        "test_filenames = glob.glob(TEST_PATH)\n",
        "val_filenames = glob.glob(VAL_PATH)\n",
        "\n",
        "print(len(train_filenames))\n",
        "print(len(test_filenames))\n",
        "print(len(val_filenames))"
      ],
      "metadata": {
        "colab": {
          "base_uri": "https://localhost:8080/"
        },
        "id": "vsyIDFf5NeBM",
        "outputId": "8bd9640f-3d65-4a19-cb03-f7d874700595"
      },
      "execution_count": 23,
      "outputs": [
        {
          "output_type": "stream",
          "name": "stdout",
          "text": [
            "5216\n",
            "624\n",
            "16\n"
          ]
        }
      ]
    },
    {
      "cell_type": "code",
      "source": [
        "# train 데이터와 validation 데이터를 모두 filenames에 담습니다\n",
        "filenames = tf.io.gfile.glob(TRAIN_PATH)\n",
        "filenames.extend(tf.io.gfile.glob(VAL_PATH))\n",
        "\n",
        "# 모아진 filenames를 8:2로 나눕니다\n",
        "train_size = math.floor(len(filenames)*0.8)\n",
        "random.seed(8)\n",
        "random.shuffle(filenames)\n",
        "train_filenames = filenames[:train_size]\n",
        "val_filenames = filenames[train_size:]\n",
        "\n",
        "print(len(train_filenames))\n",
        "print(len(val_filenames))"
      ],
      "metadata": {
        "colab": {
          "base_uri": "https://localhost:8080/"
        },
        "id": "pmBFTSdsNe8b",
        "outputId": "e4113661-2b24-4629-d099-8b56cfa488dc"
      },
      "execution_count": 24,
      "outputs": [
        {
          "output_type": "stream",
          "name": "stdout",
          "text": [
            "4185\n",
            "1047\n"
          ]
        }
      ]
    },
    {
      "cell_type": "code",
      "source": [
        "print(f'Normal image path\\n{filenames[0]}')\n",
        "print(f'Pneumonia image path\\n{filenames[2000]}')"
      ],
      "metadata": {
        "colab": {
          "base_uri": "https://localhost:8080/"
        },
        "id": "PW9qPVdUNgpI",
        "outputId": "5c2394aa-c9cb-4430-8f2d-08dda39a6283"
      },
      "execution_count": 25,
      "outputs": [
        {
          "output_type": "stream",
          "name": "stdout",
          "text": [
            "Normal image path\n",
            "/gdrive/My Drive/ex09/chest_xray/train/NORMAL/NORMAL2-IM-1206-0001.jpeg\n",
            "Pneumonia image path\n",
            "/gdrive/My Drive/ex09/chest_xray/train/PNEUMONIA/person1140_bacteria_3083.jpeg\n"
          ]
        }
      ]
    },
    {
      "cell_type": "code",
      "source": [
        "COUNT_NORMAL = len([filename for filename in train_filenames if \"NORMAL\" in filename])\n",
        "print(f\"Normal images count in training set: {COUNT_NORMAL}\")\n",
        "\n",
        "\n",
        "COUNT_PNEUMONIA = len([filename for filename in train_filenames if \"PNEUMONIA\" in filename])\n",
        "print(f\"Pneumonia images count in training set: {COUNT_PNEUMONIA}\")"
      ],
      "metadata": {
        "id": "d-mrEiIhNicL",
        "colab": {
          "base_uri": "https://localhost:8080/"
        },
        "outputId": "b2639c85-8b5b-4eb7-ec62-94518ad844d3"
      },
      "execution_count": 26,
      "outputs": [
        {
          "output_type": "stream",
          "name": "stdout",
          "text": [
            "Normal images count in training set: 1070\n",
            "Pneumonia images count in training set: 3115\n"
          ]
        }
      ]
    },
    {
      "cell_type": "markdown",
      "source": [
        "밑 코드 : 미니 배치 만들기"
      ],
      "metadata": {
        "id": "9sn0akDlIvnZ"
      }
    },
    {
      "cell_type": "code",
      "source": [
        "train_list_ds = tf.data.Dataset.from_tensor_slices(train_filenames)\n",
        "val_list_ds = tf.data.Dataset.from_tensor_slices(val_filenames)"
      ],
      "metadata": {
        "id": "ysyPCD2PDECH"
      },
      "execution_count": 27,
      "outputs": []
    },
    {
      "cell_type": "code",
      "source": [
        "TRAIN_IMG_COUNT = tf.data.experimental.cardinality(train_list_ds).numpy()\n",
        "print(f\"Training images count: {TRAIN_IMG_COUNT}\")\n",
        "\n",
        "VAL_IMG_COUNT = tf.data.experimental.cardinality(val_list_ds).numpy()\n",
        "print(f\"Validating images count: {VAL_IMG_COUNT}\")"
      ],
      "metadata": {
        "colab": {
          "base_uri": "https://localhost:8080/"
        },
        "id": "FjncRk3yDFP6",
        "outputId": "324bb272-50a2-4a7f-c25b-da7883cfeb6d"
      },
      "execution_count": 29,
      "outputs": [
        {
          "output_type": "stream",
          "name": "stdout",
          "text": [
            "Training images count: 4185\n",
            "Validating images count: 1047\n"
          ]
        }
      ]
    },
    {
      "cell_type": "code",
      "source": [
        "# 파일 경로의 끝에서 두번째 부분을 확인하면 양성과 음성을 구분할 수 있습니다\n",
        "def get_label(file_path):\n",
        "    parts = tf.strings.split(file_path, os.path.sep)\n",
        "    return parts[-2] == \"PNEUMONIA\"   # 폐렴이면 양성(True), 노말이면 음성(False)"
      ],
      "metadata": {
        "id": "WKuUgvqFDFy6"
      },
      "execution_count": 28,
      "outputs": []
    },
    {
      "cell_type": "code",
      "source": [
        "# 이미지를 알맞은 형식으로 바꿉니다.\n",
        "def decode_img(img):\n",
        "    img = tf.image.decode_jpeg(img, channels=3) # 이미지를 uint8 tensor로 수정\n",
        "    img = tf.image.convert_image_dtype(img, tf.float32) # float32 타입으로 수정\n",
        "    img = tf.image.resize(img, IMAGE_SIZE) # 이미지 사이즈를 IMAGE_SIZE로 수정\n",
        "    return img\n",
        "\n",
        "# 이미지 파일의 경로를 입력하면 이미지와 라벨을 읽어옵니다.\n",
        "def process_path(file_path):\n",
        "    label = get_label(file_path) # 라벨 검출\n",
        "    img = tf.io.read_file(file_path) # 이미지 읽기\n",
        "    img = decode_img(img) # 이미지를 알맞은 형식으로 수정\n",
        "    return img, label"
      ],
      "metadata": {
        "id": "EVqrst6YDIF0"
      },
      "execution_count": 3,
      "outputs": []
    },
    {
      "cell_type": "code",
      "source": [
        "train_ds = train_list_ds.map(process_path, num_parallel_calls=AUTOTUNE)\n",
        "val_ds = val_list_ds.map(process_path, num_parallel_calls=AUTOTUNE)"
      ],
      "metadata": {
        "id": "z2BUOJUSDJJh"
      },
      "execution_count": 30,
      "outputs": []
    },
    {
      "cell_type": "code",
      "source": [
        "import os, re\n",
        "import random, math\n",
        "import numpy as np\n",
        "import tensorflow as tf\n",
        "import matplotlib.pyplot as plt\n",
        "import warnings \n",
        "warnings.filterwarnings(action='ignore')"
      ],
      "metadata": {
        "id": "QIs1k0WsDoC0"
      },
      "execution_count": 31,
      "outputs": []
    },
    {
      "cell_type": "code",
      "source": [
        "checkpoint = tf.train.Checkpoint(model=model)\n",
        "local_device_option = tf.train.CheckpointOptions(experimental_io_device=\"/job:localhost\")\n",
        "checkpoint.write(checkpoint_path, options=local_device_option)"
      ],
      "metadata": {
        "colab": {
          "base_uri": "https://localhost:8080/",
          "height": 211
        },
        "id": "85Fjqo49HNIw",
        "outputId": "e0330afe-ec81-483d-889f-78b62533bb41"
      },
      "execution_count": 59,
      "outputs": [
        {
          "output_type": "error",
          "ename": "NameError",
          "evalue": "ignored",
          "traceback": [
            "\u001b[0;31m---------------------------------------------------------------------------\u001b[0m",
            "\u001b[0;31mNameError\u001b[0m                                 Traceback (most recent call last)",
            "\u001b[0;32m<ipython-input-59-0e6e96667804>\u001b[0m in \u001b[0;36m<module>\u001b[0;34m()\u001b[0m\n\u001b[0;32m----> 1\u001b[0;31m \u001b[0mcheckpoint\u001b[0m \u001b[0;34m=\u001b[0m \u001b[0mtf\u001b[0m\u001b[0;34m.\u001b[0m\u001b[0mtrain\u001b[0m\u001b[0;34m.\u001b[0m\u001b[0mCheckpoint\u001b[0m\u001b[0;34m(\u001b[0m\u001b[0mmodel\u001b[0m\u001b[0;34m=\u001b[0m\u001b[0mmodel\u001b[0m\u001b[0;34m)\u001b[0m\u001b[0;34m\u001b[0m\u001b[0;34m\u001b[0m\u001b[0m\n\u001b[0m\u001b[1;32m      2\u001b[0m \u001b[0mlocal_device_option\u001b[0m \u001b[0;34m=\u001b[0m \u001b[0mtf\u001b[0m\u001b[0;34m.\u001b[0m\u001b[0mtrain\u001b[0m\u001b[0;34m.\u001b[0m\u001b[0mCheckpointOptions\u001b[0m\u001b[0;34m(\u001b[0m\u001b[0mexperimental_io_device\u001b[0m\u001b[0;34m=\u001b[0m\u001b[0;34m\"/job:localhost\"\u001b[0m\u001b[0;34m)\u001b[0m\u001b[0;34m\u001b[0m\u001b[0;34m\u001b[0m\u001b[0m\n\u001b[1;32m      3\u001b[0m \u001b[0mcheckpoint\u001b[0m\u001b[0;34m.\u001b[0m\u001b[0mwrite\u001b[0m\u001b[0;34m(\u001b[0m\u001b[0mcheckpoint_path\u001b[0m\u001b[0;34m,\u001b[0m \u001b[0moptions\u001b[0m\u001b[0;34m=\u001b[0m\u001b[0mlocal_device_option\u001b[0m\u001b[0;34m)\u001b[0m\u001b[0;34m\u001b[0m\u001b[0;34m\u001b[0m\u001b[0m\n",
            "\u001b[0;31mNameError\u001b[0m: name 'model' is not defined"
          ]
        }
      ]
    },
    {
      "cell_type": "code",
      "source": [
        "for image, label in train_ds.take(1):\n",
        "    print(\"Image shape: \", image.numpy().shape)\n",
        "    print(\"Label: \", label.numpy())"
      ],
      "metadata": {
        "colab": {
          "base_uri": "https://localhost:8080/",
          "height": 400
        },
        "id": "xifUK596DLdt",
        "outputId": "f6042e16-484c-4528-a50b-b3b7e296a705"
      },
      "execution_count": 60,
      "outputs": [
        {
          "output_type": "error",
          "ename": "UnimplementedError",
          "evalue": "ignored",
          "traceback": [
            "\u001b[0;31m---------------------------------------------------------------------------\u001b[0m",
            "\u001b[0;31mUnimplementedError\u001b[0m                        Traceback (most recent call last)",
            "\u001b[0;32m<ipython-input-60-13a61c9025b7>\u001b[0m in \u001b[0;36m<module>\u001b[0;34m()\u001b[0m\n\u001b[0;32m----> 1\u001b[0;31m \u001b[0;32mfor\u001b[0m \u001b[0mimage\u001b[0m\u001b[0;34m,\u001b[0m \u001b[0mlabel\u001b[0m \u001b[0;32min\u001b[0m \u001b[0mtrain_ds\u001b[0m\u001b[0;34m.\u001b[0m\u001b[0mtake\u001b[0m\u001b[0;34m(\u001b[0m\u001b[0;36m1\u001b[0m\u001b[0;34m)\u001b[0m\u001b[0;34m:\u001b[0m\u001b[0;34m\u001b[0m\u001b[0;34m\u001b[0m\u001b[0m\n\u001b[0m\u001b[1;32m      2\u001b[0m     \u001b[0mprint\u001b[0m\u001b[0;34m(\u001b[0m\u001b[0;34m\"Image shape: \"\u001b[0m\u001b[0;34m,\u001b[0m \u001b[0mimage\u001b[0m\u001b[0;34m.\u001b[0m\u001b[0mnumpy\u001b[0m\u001b[0;34m(\u001b[0m\u001b[0;34m)\u001b[0m\u001b[0;34m.\u001b[0m\u001b[0mshape\u001b[0m\u001b[0;34m)\u001b[0m\u001b[0;34m\u001b[0m\u001b[0;34m\u001b[0m\u001b[0m\n\u001b[1;32m      3\u001b[0m     \u001b[0mprint\u001b[0m\u001b[0;34m(\u001b[0m\u001b[0;34m\"Label: \"\u001b[0m\u001b[0;34m,\u001b[0m \u001b[0mlabel\u001b[0m\u001b[0;34m.\u001b[0m\u001b[0mnumpy\u001b[0m\u001b[0;34m(\u001b[0m\u001b[0;34m)\u001b[0m\u001b[0;34m)\u001b[0m\u001b[0;34m\u001b[0m\u001b[0;34m\u001b[0m\u001b[0m\n",
            "\u001b[0;32m/usr/local/lib/python3.7/dist-packages/tensorflow/python/data/ops/iterator_ops.py\u001b[0m in \u001b[0;36m__next__\u001b[0;34m(self)\u001b[0m\n\u001b[1;32m    798\u001b[0m   \u001b[0;32mdef\u001b[0m \u001b[0m__next__\u001b[0m\u001b[0;34m(\u001b[0m\u001b[0mself\u001b[0m\u001b[0;34m)\u001b[0m\u001b[0;34m:\u001b[0m\u001b[0;34m\u001b[0m\u001b[0;34m\u001b[0m\u001b[0m\n\u001b[1;32m    799\u001b[0m     \u001b[0;32mtry\u001b[0m\u001b[0;34m:\u001b[0m\u001b[0;34m\u001b[0m\u001b[0;34m\u001b[0m\u001b[0m\n\u001b[0;32m--> 800\u001b[0;31m       \u001b[0;32mreturn\u001b[0m \u001b[0mself\u001b[0m\u001b[0;34m.\u001b[0m\u001b[0m_next_internal\u001b[0m\u001b[0;34m(\u001b[0m\u001b[0;34m)\u001b[0m\u001b[0;34m\u001b[0m\u001b[0;34m\u001b[0m\u001b[0m\n\u001b[0m\u001b[1;32m    801\u001b[0m     \u001b[0;32mexcept\u001b[0m \u001b[0merrors\u001b[0m\u001b[0;34m.\u001b[0m\u001b[0mOutOfRangeError\u001b[0m\u001b[0;34m:\u001b[0m\u001b[0;34m\u001b[0m\u001b[0;34m\u001b[0m\u001b[0m\n\u001b[1;32m    802\u001b[0m       \u001b[0;32mraise\u001b[0m \u001b[0mStopIteration\u001b[0m\u001b[0;34m\u001b[0m\u001b[0;34m\u001b[0m\u001b[0m\n",
            "\u001b[0;32m/usr/local/lib/python3.7/dist-packages/tensorflow/python/data/ops/iterator_ops.py\u001b[0m in \u001b[0;36m_next_internal\u001b[0;34m(self)\u001b[0m\n\u001b[1;32m    790\u001b[0m         \u001b[0;32mreturn\u001b[0m \u001b[0mself\u001b[0m\u001b[0;34m.\u001b[0m\u001b[0m_element_spec\u001b[0m\u001b[0;34m.\u001b[0m\u001b[0m_from_compatible_tensor_list\u001b[0m\u001b[0;34m(\u001b[0m\u001b[0mret\u001b[0m\u001b[0;34m)\u001b[0m  \u001b[0;31m# pylint: disable=protected-access\u001b[0m\u001b[0;34m\u001b[0m\u001b[0;34m\u001b[0m\u001b[0m\n\u001b[1;32m    791\u001b[0m       \u001b[0;32mexcept\u001b[0m \u001b[0mAttributeError\u001b[0m\u001b[0;34m:\u001b[0m\u001b[0;34m\u001b[0m\u001b[0;34m\u001b[0m\u001b[0m\n\u001b[0;32m--> 792\u001b[0;31m         \u001b[0;32mreturn\u001b[0m \u001b[0mstructure\u001b[0m\u001b[0;34m.\u001b[0m\u001b[0mfrom_compatible_tensor_list\u001b[0m\u001b[0;34m(\u001b[0m\u001b[0mself\u001b[0m\u001b[0;34m.\u001b[0m\u001b[0m_element_spec\u001b[0m\u001b[0;34m,\u001b[0m \u001b[0mret\u001b[0m\u001b[0;34m)\u001b[0m\u001b[0;34m\u001b[0m\u001b[0;34m\u001b[0m\u001b[0m\n\u001b[0m\u001b[1;32m    793\u001b[0m \u001b[0;34m\u001b[0m\u001b[0m\n\u001b[1;32m    794\u001b[0m   \u001b[0;34m@\u001b[0m\u001b[0mproperty\u001b[0m\u001b[0;34m\u001b[0m\u001b[0;34m\u001b[0m\u001b[0m\n",
            "\u001b[0;32m/usr/lib/python3.7/contextlib.py\u001b[0m in \u001b[0;36m__exit__\u001b[0;34m(self, type, value, traceback)\u001b[0m\n\u001b[1;32m    117\u001b[0m         \u001b[0;32mif\u001b[0m \u001b[0mtype\u001b[0m \u001b[0;32mis\u001b[0m \u001b[0;32mNone\u001b[0m\u001b[0;34m:\u001b[0m\u001b[0;34m\u001b[0m\u001b[0;34m\u001b[0m\u001b[0m\n\u001b[1;32m    118\u001b[0m             \u001b[0;32mtry\u001b[0m\u001b[0;34m:\u001b[0m\u001b[0;34m\u001b[0m\u001b[0;34m\u001b[0m\u001b[0m\n\u001b[0;32m--> 119\u001b[0;31m                 \u001b[0mnext\u001b[0m\u001b[0;34m(\u001b[0m\u001b[0mself\u001b[0m\u001b[0;34m.\u001b[0m\u001b[0mgen\u001b[0m\u001b[0;34m)\u001b[0m\u001b[0;34m\u001b[0m\u001b[0;34m\u001b[0m\u001b[0m\n\u001b[0m\u001b[1;32m    120\u001b[0m             \u001b[0;32mexcept\u001b[0m \u001b[0mStopIteration\u001b[0m\u001b[0;34m:\u001b[0m\u001b[0;34m\u001b[0m\u001b[0;34m\u001b[0m\u001b[0m\n\u001b[1;32m    121\u001b[0m                 \u001b[0;32mreturn\u001b[0m \u001b[0;32mFalse\u001b[0m\u001b[0;34m\u001b[0m\u001b[0;34m\u001b[0m\u001b[0m\n",
            "\u001b[0;32m/usr/local/lib/python3.7/dist-packages/tensorflow/python/eager/context.py\u001b[0m in \u001b[0;36mexecution_mode\u001b[0;34m(mode)\u001b[0m\n\u001b[1;32m   2329\u001b[0m     \u001b[0;32mfinally\u001b[0m\u001b[0;34m:\u001b[0m\u001b[0;34m\u001b[0m\u001b[0;34m\u001b[0m\u001b[0m\n\u001b[1;32m   2330\u001b[0m       \u001b[0mctx\u001b[0m\u001b[0;34m.\u001b[0m\u001b[0mexecutor\u001b[0m \u001b[0;34m=\u001b[0m \u001b[0mexecutor_old\u001b[0m\u001b[0;34m\u001b[0m\u001b[0;34m\u001b[0m\u001b[0m\n\u001b[0;32m-> 2331\u001b[0;31m       \u001b[0mexecutor_new\u001b[0m\u001b[0;34m.\u001b[0m\u001b[0mwait\u001b[0m\u001b[0;34m(\u001b[0m\u001b[0;34m)\u001b[0m\u001b[0;34m\u001b[0m\u001b[0;34m\u001b[0m\u001b[0m\n\u001b[0m\u001b[1;32m   2332\u001b[0m \u001b[0;34m\u001b[0m\u001b[0m\n\u001b[1;32m   2333\u001b[0m \u001b[0;34m\u001b[0m\u001b[0m\n",
            "\u001b[0;32m/usr/local/lib/python3.7/dist-packages/tensorflow/python/eager/executor.py\u001b[0m in \u001b[0;36mwait\u001b[0;34m(self)\u001b[0m\n\u001b[1;32m     67\u001b[0m   \u001b[0;32mdef\u001b[0m \u001b[0mwait\u001b[0m\u001b[0;34m(\u001b[0m\u001b[0mself\u001b[0m\u001b[0;34m)\u001b[0m\u001b[0;34m:\u001b[0m\u001b[0;34m\u001b[0m\u001b[0;34m\u001b[0m\u001b[0m\n\u001b[1;32m     68\u001b[0m     \u001b[0;34m\"\"\"Waits for ops dispatched in this executor to finish.\"\"\"\u001b[0m\u001b[0;34m\u001b[0m\u001b[0;34m\u001b[0m\u001b[0m\n\u001b[0;32m---> 69\u001b[0;31m     \u001b[0mpywrap_tfe\u001b[0m\u001b[0;34m.\u001b[0m\u001b[0mTFE_ExecutorWaitForAllPendingNodes\u001b[0m\u001b[0;34m(\u001b[0m\u001b[0mself\u001b[0m\u001b[0;34m.\u001b[0m\u001b[0m_handle\u001b[0m\u001b[0;34m)\u001b[0m\u001b[0;34m\u001b[0m\u001b[0;34m\u001b[0m\u001b[0m\n\u001b[0m\u001b[1;32m     70\u001b[0m \u001b[0;34m\u001b[0m\u001b[0m\n\u001b[1;32m     71\u001b[0m   \u001b[0;32mdef\u001b[0m \u001b[0mclear_error\u001b[0m\u001b[0;34m(\u001b[0m\u001b[0mself\u001b[0m\u001b[0;34m)\u001b[0m\u001b[0;34m:\u001b[0m\u001b[0;34m\u001b[0m\u001b[0;34m\u001b[0m\u001b[0m\n",
            "\u001b[0;31mUnimplementedError\u001b[0m: File system scheme '[local]' not implemented (file: '/gdrive/My Drive/ex09/chest_xray/train/NORMAL/NORMAL2-IM-1206-0001.jpeg')\n\t [[{{node ReadFile}}]]"
          ]
        }
      ]
    },
    {
      "cell_type": "code",
      "source": [
        "test_list_ds = tf.data.Dataset.list_files(TEST_PATH)\n",
        "TEST_IMAGE_COUNT = tf.data.experimental.cardinality(test_list_ds).numpy()\n",
        "test_ds = test_list_ds.map(process_path, num_parallel_calls=AUTOTUNE)\n",
        "test_ds = test_ds.batch(BATCH_SIZE)\n",
        "\n",
        "print(TEST_IMAGE_COUNT)"
      ],
      "metadata": {
        "colab": {
          "base_uri": "https://localhost:8080/",
          "height": 418
        },
        "id": "JernwYriDM-N",
        "outputId": "7d6f0d9b-f189-41a6-c513-b5adafdcd517"
      },
      "execution_count": 35,
      "outputs": [
        {
          "output_type": "error",
          "ename": "UnimplementedError",
          "evalue": "ignored",
          "traceback": [
            "\u001b[0;31m---------------------------------------------------------------------------\u001b[0m",
            "\u001b[0;31mUnimplementedError\u001b[0m                        Traceback (most recent call last)",
            "\u001b[0;32m<ipython-input-35-2bd677c9f6b1>\u001b[0m in \u001b[0;36m<module>\u001b[0;34m()\u001b[0m\n\u001b[0;32m----> 1\u001b[0;31m \u001b[0mtest_list_ds\u001b[0m \u001b[0;34m=\u001b[0m \u001b[0mtf\u001b[0m\u001b[0;34m.\u001b[0m\u001b[0mdata\u001b[0m\u001b[0;34m.\u001b[0m\u001b[0mDataset\u001b[0m\u001b[0;34m.\u001b[0m\u001b[0mlist_files\u001b[0m\u001b[0;34m(\u001b[0m\u001b[0mTEST_PATH\u001b[0m\u001b[0;34m)\u001b[0m\u001b[0;34m\u001b[0m\u001b[0;34m\u001b[0m\u001b[0m\n\u001b[0m\u001b[1;32m      2\u001b[0m \u001b[0mTEST_IMAGE_COUNT\u001b[0m \u001b[0;34m=\u001b[0m \u001b[0mtf\u001b[0m\u001b[0;34m.\u001b[0m\u001b[0mdata\u001b[0m\u001b[0;34m.\u001b[0m\u001b[0mexperimental\u001b[0m\u001b[0;34m.\u001b[0m\u001b[0mcardinality\u001b[0m\u001b[0;34m(\u001b[0m\u001b[0mtest_list_ds\u001b[0m\u001b[0;34m)\u001b[0m\u001b[0;34m.\u001b[0m\u001b[0mnumpy\u001b[0m\u001b[0;34m(\u001b[0m\u001b[0;34m)\u001b[0m\u001b[0;34m\u001b[0m\u001b[0;34m\u001b[0m\u001b[0m\n\u001b[1;32m      3\u001b[0m \u001b[0mtest_ds\u001b[0m \u001b[0;34m=\u001b[0m \u001b[0mtest_list_ds\u001b[0m\u001b[0;34m.\u001b[0m\u001b[0mmap\u001b[0m\u001b[0;34m(\u001b[0m\u001b[0mprocess_path\u001b[0m\u001b[0;34m,\u001b[0m \u001b[0mnum_parallel_calls\u001b[0m\u001b[0;34m=\u001b[0m\u001b[0mAUTOTUNE\u001b[0m\u001b[0;34m)\u001b[0m\u001b[0;34m\u001b[0m\u001b[0;34m\u001b[0m\u001b[0m\n\u001b[1;32m      4\u001b[0m \u001b[0mtest_ds\u001b[0m \u001b[0;34m=\u001b[0m \u001b[0mtest_ds\u001b[0m\u001b[0;34m.\u001b[0m\u001b[0mbatch\u001b[0m\u001b[0;34m(\u001b[0m\u001b[0mBATCH_SIZE\u001b[0m\u001b[0;34m)\u001b[0m\u001b[0;34m\u001b[0m\u001b[0;34m\u001b[0m\u001b[0m\n\u001b[1;32m      5\u001b[0m \u001b[0;34m\u001b[0m\u001b[0m\n",
            "\u001b[0;32m/usr/local/lib/python3.7/dist-packages/tensorflow/python/data/ops/dataset_ops.py\u001b[0m in \u001b[0;36mlist_files\u001b[0;34m(file_pattern, shuffle, seed, name)\u001b[0m\n\u001b[1;32m   1327\u001b[0m \u001b[0;34m\u001b[0m\u001b[0m\n\u001b[1;32m   1328\u001b[0m       \u001b[0;31m# Raise an exception if `file_pattern` does not match any files.\u001b[0m\u001b[0;34m\u001b[0m\u001b[0;34m\u001b[0m\u001b[0;34m\u001b[0m\u001b[0m\n\u001b[0;32m-> 1329\u001b[0;31m       condition = math_ops.greater(array_ops.shape(matching_files)[0], 0,\n\u001b[0m\u001b[1;32m   1330\u001b[0m                                    name=\"match_not_empty\")\n\u001b[1;32m   1331\u001b[0m \u001b[0;34m\u001b[0m\u001b[0m\n",
            "\u001b[0;32m/usr/local/lib/python3.7/dist-packages/tensorflow/python/util/traceback_utils.py\u001b[0m in \u001b[0;36merror_handler\u001b[0;34m(*args, **kwargs)\u001b[0m\n\u001b[1;32m    151\u001b[0m     \u001b[0;32mexcept\u001b[0m \u001b[0mException\u001b[0m \u001b[0;32mas\u001b[0m \u001b[0me\u001b[0m\u001b[0;34m:\u001b[0m\u001b[0;34m\u001b[0m\u001b[0;34m\u001b[0m\u001b[0m\n\u001b[1;32m    152\u001b[0m       \u001b[0mfiltered_tb\u001b[0m \u001b[0;34m=\u001b[0m \u001b[0m_process_traceback_frames\u001b[0m\u001b[0;34m(\u001b[0m\u001b[0me\u001b[0m\u001b[0;34m.\u001b[0m\u001b[0m__traceback__\u001b[0m\u001b[0;34m)\u001b[0m\u001b[0;34m\u001b[0m\u001b[0;34m\u001b[0m\u001b[0m\n\u001b[0;32m--> 153\u001b[0;31m       \u001b[0;32mraise\u001b[0m \u001b[0me\u001b[0m\u001b[0;34m.\u001b[0m\u001b[0mwith_traceback\u001b[0m\u001b[0;34m(\u001b[0m\u001b[0mfiltered_tb\u001b[0m\u001b[0;34m)\u001b[0m \u001b[0;32mfrom\u001b[0m \u001b[0;32mNone\u001b[0m\u001b[0;34m\u001b[0m\u001b[0;34m\u001b[0m\u001b[0m\n\u001b[0m\u001b[1;32m    154\u001b[0m     \u001b[0;32mfinally\u001b[0m\u001b[0;34m:\u001b[0m\u001b[0;34m\u001b[0m\u001b[0;34m\u001b[0m\u001b[0m\n\u001b[1;32m    155\u001b[0m       \u001b[0;32mdel\u001b[0m \u001b[0mfiltered_tb\u001b[0m\u001b[0;34m\u001b[0m\u001b[0;34m\u001b[0m\u001b[0m\n",
            "\u001b[0;32m/usr/local/lib/python3.7/dist-packages/tensorflow/python/framework/ops.py\u001b[0m in \u001b[0;36mraise_from_not_ok_status\u001b[0;34m(e, name)\u001b[0m\n\u001b[1;32m   7105\u001b[0m \u001b[0;32mdef\u001b[0m \u001b[0mraise_from_not_ok_status\u001b[0m\u001b[0;34m(\u001b[0m\u001b[0me\u001b[0m\u001b[0;34m,\u001b[0m \u001b[0mname\u001b[0m\u001b[0;34m)\u001b[0m\u001b[0;34m:\u001b[0m\u001b[0;34m\u001b[0m\u001b[0;34m\u001b[0m\u001b[0m\n\u001b[1;32m   7106\u001b[0m   \u001b[0me\u001b[0m\u001b[0;34m.\u001b[0m\u001b[0mmessage\u001b[0m \u001b[0;34m+=\u001b[0m \u001b[0;34m(\u001b[0m\u001b[0;34m\" name: \"\u001b[0m \u001b[0;34m+\u001b[0m \u001b[0mname\u001b[0m \u001b[0;32mif\u001b[0m \u001b[0mname\u001b[0m \u001b[0;32mis\u001b[0m \u001b[0;32mnot\u001b[0m \u001b[0;32mNone\u001b[0m \u001b[0;32melse\u001b[0m \u001b[0;34m\"\"\u001b[0m\u001b[0;34m)\u001b[0m\u001b[0;34m\u001b[0m\u001b[0;34m\u001b[0m\u001b[0m\n\u001b[0;32m-> 7107\u001b[0;31m   \u001b[0;32mraise\u001b[0m \u001b[0mcore\u001b[0m\u001b[0;34m.\u001b[0m\u001b[0m_status_to_exception\u001b[0m\u001b[0;34m(\u001b[0m\u001b[0me\u001b[0m\u001b[0;34m)\u001b[0m \u001b[0;32mfrom\u001b[0m \u001b[0;32mNone\u001b[0m  \u001b[0;31m# pylint: disable=protected-access\u001b[0m\u001b[0;34m\u001b[0m\u001b[0;34m\u001b[0m\u001b[0m\n\u001b[0m\u001b[1;32m   7108\u001b[0m \u001b[0;34m\u001b[0m\u001b[0m\n\u001b[1;32m   7109\u001b[0m \u001b[0;34m\u001b[0m\u001b[0m\n",
            "\u001b[0;31mUnimplementedError\u001b[0m: File system scheme '[local]' not implemented (file: '/gdrive/My Drive/ex09/chest_xray/test/*/*') [Op:StridedSlice] name: strided_slice/"
          ]
        }
      ]
    },
    {
      "cell_type": "code",
      "source": [
        ""
      ],
      "metadata": {
        "id": "q0oSf15yDNH2"
      },
      "execution_count": null,
      "outputs": []
    }
  ]
}